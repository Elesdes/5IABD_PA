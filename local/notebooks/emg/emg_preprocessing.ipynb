{
 "cells": [
  {
   "cell_type": "markdown",
   "metadata": {},
   "source": [
    "# EMG Preprocessing"
   ]
  },
  {
   "cell_type": "markdown",
   "metadata": {},
   "source": [
    "## Load Raw EMG Data"
   ]
  },
  {
   "cell_type": "code",
   "execution_count": null,
   "metadata": {},
   "outputs": [],
   "source": [
    "import pandas as pd\n",
    "\n",
    "data = pd.read_csv('emg_data.csv')\n",
    "sampling_frequency = 1000 # Hz"
   ]
  },
  {
   "cell_type": "markdown",
   "metadata": {},
   "source": [
    "## Filtering Functions"
   ]
  },
  {
   "cell_type": "code",
   "execution_count": null,
   "metadata": {},
   "outputs": [],
   "source": [
    "from scipy.signal import butter, filtfilt\n",
    "\n",
    "def butter_highpass(cutoff, fs, order=5):\n",
    "    nyq = 0.5 * fs\n",
    "    normal_cutoff = cutoff / nyq\n",
    "    b, a = butter(order, normal_cutoff, btype='high', analog=False)\n",
    "    return b, a\n",
    "\n",
    "def butter_lowpass(cutoff, fs, order=5):\n",
    "    nyq = 0.5 * fs\n",
    "    normal_cutoff = cutoff / nyq\n",
    "    b, a = butter(order, normal_cutoff, btype='low', analog=False)\n",
    "    return b, a\n",
    "\n",
    "def butter_notch(cutoff, fs, Q=30):\n",
    "    nyq = 0.5 * fs\n",
    "    normal_cutoff = cutoff / nyq\n",
    "    b, a = butter(2, [normal_cutoff - normal_cutoff/Q, normal_cutoff + normal_cutoff/Q], btype='bandstop')\n",
    "    return b, a\n",
    "\n",
    "def filter_signal(data, fs):\n",
    "    b, a = butter_highpass(20, fs, order=4)\n",
    "    highpassed = filtfilt(b, a, data)\n",
    "    \n",
    "    b, a = butter_lowpass(450, fs, order=4)\n",
    "    lowpassed = filtfilt(b, a, highpassed)\n",
    "    \n",
    "    b, a = butter_notch(50, fs)\n",
    "    filtered = filtfilt(b, a, lowpassed)\n",
    "    \n",
    "    return filtered"
   ]
  },
  {
   "cell_type": "markdown",
   "metadata": {},
   "source": [
    "# Define Preprocessing Function"
   ]
  },
  {
   "cell_type": "code",
   "execution_count": null,
   "metadata": {},
   "outputs": [],
   "source": [
    "from sklearn.preprocessing import MinMaxScaler\n",
    "import numpy as np\n",
    "\n",
    "def preprocess_emg(data, fs):\n",
    "    # Filtering\n",
    "    filtered_data = filter_signal(data, fs)\n",
    "    \n",
    "    # Rectification\n",
    "    rectified_data = np.abs(filtered_data)\n",
    "    \n",
    "    # Smoothing\n",
    "    window_size = int(0.2 * fs)  # 200 ms window\n",
    "    smoothed_data = np.convolve(rectified_data, np.ones(window_size)/window_size, mode='same')\n",
    "    \n",
    "    # Normalization\n",
    "    scaler = MinMaxScaler()\n",
    "    normalized_data = scaler.fit_transform(smoothed_data.reshape(-1, 1)).flatten()\n",
    "    \n",
    "    return normalized_data"
   ]
  },
  {
   "cell_type": "markdown",
   "metadata": {},
   "source": [
    "## Apply Preprocessing To Each EMG Channel"
   ]
  },
  {
   "cell_type": "code",
   "execution_count": null,
   "metadata": {},
   "outputs": [],
   "source": [
    "emg_channels = ['EMG1', 'EMG2', 'EMG3', 'EMG4', 'EMG5', 'EMG6', 'EMG7', 'EMG8']\n",
    "preprocessed_data = {}\n",
    "\n",
    "for channel in emg_channels:\n",
    "    preprocessed_data[channel] = preprocess_emg(data[channel].values, sampling_frequency)\n",
    "\n",
    "preprocessed_df = pd.DataFrame(preprocessed_data)"
   ]
  },
  {
   "cell_type": "markdown",
   "metadata": {},
   "source": [
    "## Plot Preprocessed EMG Data"
   ]
  },
  {
   "cell_type": "code",
   "execution_count": null,
   "metadata": {},
   "outputs": [],
   "source": [
    "import matplotlib.pyplot as plt\n",
    "\n",
    "plt.figure(figsize=(14, 6))\n",
    "plt.subplot(2, 1, 1)\n",
    "plt.plot(data['EMG1'])\n",
    "plt.title('Raw EMG Data - EMG1')\n",
    "plt.xlabel('Time (samples)')\n",
    "plt.ylabel('Amplitude')\n",
    "\n",
    "plt.subplot(2, 1, 2)\n",
    "plt.plot(preprocessed_df['EMG1'])\n",
    "plt.title('Preprocessed EMG Data - EMG1')\n",
    "plt.xlabel('Time (samples)')\n",
    "plt.ylabel('Normalized Amplitude')\n",
    "\n",
    "plt.tight_layout()\n",
    "plt.show()"
   ]
  }
 ],
 "metadata": {
  "kernelspec": {
   "display_name": "5IABD_PA",
   "language": "python",
   "name": "python3"
  },
  "language_info": {
   "codemirror_mode": {
    "name": "ipython",
    "version": 3
   },
   "file_extension": ".py",
   "mimetype": "text/x-python",
   "name": "python",
   "nbconvert_exporter": "python",
   "pygments_lexer": "ipython3",
   "version": "3.11.8"
  }
 },
 "nbformat": 4,
 "nbformat_minor": 2
}
