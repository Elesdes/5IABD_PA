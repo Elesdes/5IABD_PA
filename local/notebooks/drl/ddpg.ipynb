{
 "cells": [
  {
   "cell_type": "markdown",
   "metadata": {},
   "source": [
    "## Import Libs"
   ]
  },
  {
   "cell_type": "code",
   "execution_count": 1,
   "metadata": {},
   "outputs": [
    {
     "name": "stderr",
     "output_type": "stream",
     "text": [
      "2024-04-17 19:52:02.997129: I tensorflow/core/util/port.cc:113] oneDNN custom operations are on. You may see slightly different numerical results due to floating-point round-off errors from different computation orders. To turn them off, set the environment variable `TF_ENABLE_ONEDNN_OPTS=0`.\n",
      "2024-04-17 19:52:03.362971: I tensorflow/core/platform/cpu_feature_guard.cc:210] This TensorFlow binary is optimized to use available CPU instructions in performance-critical operations.\n",
      "To enable the following instructions: AVX2 AVX512F AVX512_VNNI FMA, in other operations, rebuild TensorFlow with the appropriate compiler flags.\n",
      "2024-04-17 19:52:04.244134: W tensorflow/compiler/tf2tensorrt/utils/py_utils.cc:38] TF-TRT Warning: Could not find TensorRT\n"
     ]
    }
   ],
   "source": [
    "import gym\n",
    "import tensorflow as tf\n",
    "from tensorflow.keras import layers\n",
    "import numpy as np\n",
    "import matplotlib.pyplot as plt\n",
    "from tqdm import tqdm\n",
    "import os"
   ]
  },
  {
   "cell_type": "markdown",
   "metadata": {},
   "source": [
    "## Env Initialization"
   ]
  },
  {
   "cell_type": "code",
   "execution_count": 2,
   "metadata": {},
   "outputs": [
    {
     "name": "stdout",
     "output_type": "stream",
     "text": [
      "Size of State Space ->  3\n",
      "Size of Action Space ->  1\n",
      "Max Value of Action ->  2.0\n",
      "Min Value of Action ->  -2.0\n"
     ]
    }
   ],
   "source": [
    "env = gym.make(\"Pendulum-v1\")\n",
    "\n",
    "num_states = env.observation_space.shape[0]\n",
    "print(f\"Size of State Space ->  {num_states}\")\n",
    "num_actions = env.action_space.shape[0]\n",
    "print(f\"Size of Action Space ->  {num_actions}\")\n",
    "\n",
    "upper_bound = env.action_space.high[0]\n",
    "lower_bound = env.action_space.low[0]\n",
    "\n",
    "print(f\"Max Value of Action ->  {upper_bound}\")\n",
    "print(f\"Min Value of Action ->  {lower_bound}\")"
   ]
  },
  {
   "cell_type": "markdown",
   "metadata": {},
   "source": [
    "## Generate Noise"
   ]
  },
  {
   "cell_type": "code",
   "execution_count": 3,
   "metadata": {},
   "outputs": [],
   "source": [
    "class OUActionNoise:\n",
    "    def __init__(self, mean, std_deviation, theta=0.15, dt=1e-2, x_initial=None):\n",
    "        self.theta = theta\n",
    "        self.mean = mean\n",
    "        self.std_dev = std_deviation\n",
    "        self.dt = dt\n",
    "        self.x_initial = x_initial\n",
    "        self.reset()\n",
    "\n",
    "    def __call__(self):\n",
    "        # Formula taken from https://www.wikipedia.org/wiki/Ornstein-Uhlenbeck_process.\n",
    "        x = (\n",
    "            self.x_prev\n",
    "            + self.theta * (self.mean - self.x_prev) * self.dt\n",
    "            + self.std_dev * np.sqrt(self.dt) * np.random.normal(size=self.mean.shape)\n",
    "        )\n",
    "        # Store x into x_prev\n",
    "        # Makes next noise dependent on current one\n",
    "        self.x_prev = x\n",
    "        return x\n",
    "\n",
    "    def reset(self):\n",
    "        if self.x_initial is not None:\n",
    "            self.x_prev = self.x_initial\n",
    "        else:\n",
    "            self.x_prev = np.zeros_like(self.mean)"
   ]
  },
  {
   "cell_type": "markdown",
   "metadata": {},
   "source": [
    "## Experience Replay"
   ]
  },
  {
   "cell_type": "code",
   "execution_count": 4,
   "metadata": {},
   "outputs": [],
   "source": [
    "class Buffer:\n",
    "    def __init__(self, buffer_capacity=100000, batch_size=64):\n",
    "        # Number of \"experiences\" to store at max\n",
    "        self.buffer_capacity = buffer_capacity\n",
    "        # Num of tuples to train on.\n",
    "        self.batch_size = batch_size\n",
    "\n",
    "        # Its tells us num of times record() was called.\n",
    "        self.buffer_counter = 0\n",
    "\n",
    "        # Instead of list of tuples as the exp.replay concept go\n",
    "        # We use different np.arrays for each tuple element\n",
    "        self.state_buffer = np.zeros((self.buffer_capacity, num_states))\n",
    "        self.action_buffer = np.zeros((self.buffer_capacity, num_actions))\n",
    "        self.reward_buffer = np.zeros((self.buffer_capacity, 1))\n",
    "        self.next_state_buffer = np.zeros((self.buffer_capacity, num_states))\n",
    "\n",
    "    # Takes (s,a,r,s') obervation tuple as input\n",
    "    def record(self, obs_tuple):\n",
    "        # Set index to zero if buffer_capacity is exceeded,\n",
    "        # replacing old records\n",
    "        index = self.buffer_counter % self.buffer_capacity\n",
    "\n",
    "        self.state_buffer[index] = obs_tuple[0]\n",
    "        self.action_buffer[index] = obs_tuple[1]\n",
    "        self.reward_buffer[index] = obs_tuple[2]\n",
    "        self.next_state_buffer[index] = obs_tuple[3]\n",
    "\n",
    "        self.buffer_counter += 1\n",
    "\n",
    "    def update(\n",
    "        self, state_batch, action_batch, reward_batch, next_state_batch,\n",
    "    ):\n",
    "        # Training and updating Actor & Critic networks.\n",
    "        # See Pseudo Code.\n",
    "        with tf.GradientTape() as tape:\n",
    "            target_actions = target_actor(next_state_batch, training=True)\n",
    "            y = reward_batch + gamma * target_critic(\n",
    "                [next_state_batch, target_actions], training=True\n",
    "            )\n",
    "            critic_value = critic_model([state_batch, action_batch], training=True)\n",
    "            critic_loss = tf.math.reduce_mean(tf.math.square(y - critic_value))\n",
    "\n",
    "        critic_grad = tape.gradient(critic_loss, critic_model.trainable_variables)\n",
    "        critic_optimizer.apply_gradients(\n",
    "            zip(critic_grad, critic_model.trainable_variables)\n",
    "        )\n",
    "\n",
    "        with tf.GradientTape() as tape:\n",
    "            actions = actor_model(state_batch, training=True)\n",
    "            critic_value = critic_model([state_batch, actions], training=True)\n",
    "            # Used `-value` as we want to maximize the value given\n",
    "            # by the critic for our actions\n",
    "            actor_loss = -tf.math.reduce_mean(critic_value)\n",
    "\n",
    "        actor_grad = tape.gradient(actor_loss, actor_model.trainable_variables)\n",
    "        actor_optimizer.apply_gradients(\n",
    "            zip(actor_grad, actor_model.trainable_variables)\n",
    "        )\n",
    "\n",
    "    # We compute the loss and update parameters\n",
    "    def learn(self):\n",
    "        # Get sampling range\n",
    "        record_range = min(self.buffer_counter, self.buffer_capacity)\n",
    "        # Randomly sample indices\n",
    "        batch_indices = np.random.choice(record_range, self.batch_size)\n",
    "\n",
    "        # Convert to tensors\n",
    "        state_batch = tf.convert_to_tensor(self.state_buffer[batch_indices])\n",
    "        action_batch = tf.convert_to_tensor(self.action_buffer[batch_indices])\n",
    "        reward_batch = tf.convert_to_tensor(self.reward_buffer[batch_indices])\n",
    "        reward_batch = tf.cast(reward_batch, dtype=tf.float32)\n",
    "        next_state_batch = tf.convert_to_tensor(self.next_state_buffer[batch_indices])\n",
    "\n",
    "        self.update(state_batch, action_batch, reward_batch, next_state_batch)\n",
    "\n",
    "\n",
    "# This update target parameters slowly\n",
    "# Based on rate `tau`, which is much less than one.\n",
    "def update_target(target_weights, weights, tau):\n",
    "    for (a, b) in zip(target_weights, weights):\n",
    "        a.assign(b * tau + a * (1 - tau))"
   ]
  },
  {
   "cell_type": "markdown",
   "metadata": {},
   "source": [
    "## Actor & Critic Nets"
   ]
  },
  {
   "cell_type": "code",
   "execution_count": 5,
   "metadata": {},
   "outputs": [],
   "source": [
    "def get_actor():\n",
    "    # Initialize weights between -3e-3 and 3-e3\n",
    "    last_init = tf.keras.initializers.RandomUniform(minval=-0.003, maxval=0.003)\n",
    "\n",
    "    inputs = layers.Input(shape=(num_states,))\n",
    "    out = layers.Dense(256, activation=\"relu\")(inputs)\n",
    "    out = layers.Dense(256, activation=\"relu\")(out)\n",
    "    outputs = layers.Dense(1, activation=\"tanh\", kernel_initializer=last_init)(out)\n",
    "\n",
    "    # Our upper bound is 2.0 for Pendulum.\n",
    "    outputs = outputs * upper_bound\n",
    "    model = tf.keras.Model(inputs, outputs)\n",
    "    return model\n",
    "\n",
    "\n",
    "def get_critic():\n",
    "    # State as input\n",
    "    state_input = layers.Input(shape=(num_states,))\n",
    "    state_out = layers.Dense(16, activation=\"relu\")(state_input)\n",
    "    state_out = layers.Dense(32, activation=\"relu\")(state_out)\n",
    "\n",
    "    # Action as input\n",
    "    action_input = layers.Input(shape=(num_actions,))\n",
    "    action_out = layers.Dense(32, activation=\"relu\")(action_input)\n",
    "\n",
    "    # Both are passed through seperate layer before concatenating\n",
    "    concat = layers.Concatenate()([state_out, action_out])\n",
    "\n",
    "    out = layers.Dense(256, activation=\"relu\")(concat)\n",
    "    out = layers.Dense(256, activation=\"relu\")(out)\n",
    "    outputs = layers.Dense(1)(out)\n",
    "\n",
    "    # Outputs single value for give state-action\n",
    "    model = tf.keras.Model([state_input, action_input], outputs)\n",
    "\n",
    "    return model"
   ]
  },
  {
   "cell_type": "markdown",
   "metadata": {},
   "source": [
    "## Policy"
   ]
  },
  {
   "cell_type": "code",
   "execution_count": 6,
   "metadata": {},
   "outputs": [],
   "source": [
    "def policy(state, noise_object):\n",
    "    sampled_actions = tf.keras.ops.squeeze(actor_model(state))\n",
    "    noise = noise_object()\n",
    "    # Adding noise to action\n",
    "    sampled_actions = sampled_actions.numpy() + noise\n",
    "\n",
    "    # We make sure action is within bounds\n",
    "    legal_action = np.clip(sampled_actions, lower_bound, upper_bound)\n",
    "\n",
    "    return [np.squeeze(legal_action)]"
   ]
  },
  {
   "cell_type": "markdown",
   "metadata": {},
   "source": [
    "## Hyperparameters"
   ]
  },
  {
   "cell_type": "code",
   "execution_count": 7,
   "metadata": {},
   "outputs": [
    {
     "name": "stderr",
     "output_type": "stream",
     "text": [
      "2024-04-17 19:52:05.876171: I external/local_xla/xla/stream_executor/cuda/cuda_executor.cc:984] could not open file to read NUMA node: /sys/bus/pci/devices/0000:01:00.0/numa_node\n",
      "Your kernel may have been built without NUMA support.\n",
      "2024-04-17 19:52:05.876536: W tensorflow/core/common_runtime/gpu/gpu_device.cc:2251] Cannot dlopen some GPU libraries. Please make sure the missing libraries mentioned above are installed properly if you would like to use GPU. Follow the guide at https://www.tensorflow.org/install/gpu for how to download and setup the required libraries for your platform.\n",
      "Skipping registering GPU devices...\n"
     ]
    }
   ],
   "source": [
    "std_dev = 0.2\n",
    "ou_noise = OUActionNoise(mean=np.zeros(1), std_deviation=float(std_dev) * np.ones(1))\n",
    "\n",
    "actor_model = get_actor()\n",
    "critic_model = get_critic()\n",
    "\n",
    "target_actor = get_actor()\n",
    "target_critic = get_critic()\n",
    "\n",
    "target_actor.set_weights(actor_model.get_weights())\n",
    "target_critic.set_weights(critic_model.get_weights())\n",
    "\n",
    "critic_lr = 0.002\n",
    "actor_lr = 0.001\n",
    "\n",
    "critic_optimizer = tf.keras.optimizers.Adam(critic_lr)\n",
    "actor_optimizer = tf.keras.optimizers.Adam(actor_lr)\n",
    "\n",
    "total_episodes = 100\n",
    "max_iterations = 100\n",
    "gamma = 0.99\n",
    "tau = 0.005\n",
    "\n",
    "buffer = Buffer(50000, 64)\n",
    "\n",
    "render = True"
   ]
  },
  {
   "cell_type": "markdown",
   "metadata": {},
   "source": [
    "## Render ?"
   ]
  },
  {
   "cell_type": "code",
   "execution_count": 8,
   "metadata": {},
   "outputs": [],
   "source": [
    "if render:\n",
    "    env = gym.make(\"Pendulum-v1\", render_mode=\"rgb_array\")\n",
    "    frames_dir = \"../../data/frames/ddpg\"\n",
    "    os.makedirs(os.path.dirname(frames_dir), exist_ok=True)\n",
    "else:\n",
    "    env = gym.make(\"Pendulum-v1\")"
   ]
  },
  {
   "cell_type": "markdown",
   "metadata": {},
   "source": [
    "## Train"
   ]
  },
  {
   "cell_type": "code",
   "execution_count": 9,
   "metadata": {},
   "outputs": [
    {
     "name": "stderr",
     "output_type": "stream",
     "text": [
      "/home/elesdes/miniconda3/envs/5IABD_PA/lib/python3.11/site-packages/gym/utils/passive_env_checker.py:233: DeprecationWarning: `np.bool8` is a deprecated alias for `np.bool_`.  (Deprecated NumPy 1.24)\n",
      "  if not isinstance(terminated, (bool, np.bool8)):\n"
     ]
    },
    {
     "name": "stdout",
     "output_type": "stream",
     "text": [
      "Episode 0 | Avg Reward is ==> -690.9425929076006\n",
      "Episode 1 | Avg Reward is ==> -686.0898517226615\n",
      "Episode 2 | Avg Reward is ==> -679.6576374359291\n",
      "Episode 3 | Avg Reward is ==> -640.1207490456223\n",
      "Episode 4 | Avg Reward is ==> -641.6619422521748\n",
      "Episode 5 | Avg Reward is ==> -682.508531704049\n",
      "Episode 6 | Avg Reward is ==> -714.0113378691564\n",
      "Episode 7 | Avg Reward is ==> -719.638556321356\n",
      "Episode 8 | Avg Reward is ==> -738.3137622899956\n",
      "Episode 9 | Avg Reward is ==> -736.0603326133742\n",
      "Episode 10 | Avg Reward is ==> -730.0248381528313\n",
      "Episode 11 | Avg Reward is ==> -733.3221957188563\n",
      "Episode 12 | Avg Reward is ==> -742.6362130820615\n",
      "Episode 13 | Avg Reward is ==> -732.0634360289872\n",
      "Episode 14 | Avg Reward is ==> -739.9829546454566\n",
      "Episode 15 | Avg Reward is ==> -737.0037335380944\n",
      "Episode 16 | Avg Reward is ==> -726.6061979709864\n",
      "Episode 17 | Avg Reward is ==> -733.4623653460644\n",
      "Episode 18 | Avg Reward is ==> -737.4156623304561\n",
      "Episode 19 | Avg Reward is ==> -740.1204694181968\n",
      "Episode 20 | Avg Reward is ==> -730.4795079430804\n",
      "Episode 21 | Avg Reward is ==> -715.1002312719676\n",
      "Episode 22 | Avg Reward is ==> -690.1416013368287\n",
      "Episode 23 | Avg Reward is ==> -687.6067047982182\n",
      "Episode 24 | Avg Reward is ==> -690.3405684558579\n",
      "Episode 25 | Avg Reward is ==> -692.7658381657764\n",
      "Episode 26 | Avg Reward is ==> -689.1688954825268\n",
      "Episode 27 | Avg Reward is ==> -686.5053265086909\n",
      "Episode 28 | Avg Reward is ==> -681.741985447305\n",
      "Episode 29 | Avg Reward is ==> -672.0328067468249\n",
      "Episode 30 | Avg Reward is ==> -666.0101061468116\n",
      "Episode 31 | Avg Reward is ==> -657.547755396603\n",
      "Episode 32 | Avg Reward is ==> -649.1985240983845\n",
      "Episode 33 | Avg Reward is ==> -653.799749984107\n",
      "Episode 34 | Avg Reward is ==> -642.0424674318825\n",
      "Episode 35 | Avg Reward is ==> -627.8071365066304\n",
      "Episode 36 | Avg Reward is ==> -614.4893893372468\n",
      "Episode 37 | Avg Reward is ==> -605.191704491785\n",
      "Episode 38 | Avg Reward is ==> -599.1435973575257\n",
      "Episode 39 | Avg Reward is ==> -593.8053928608202\n",
      "Episode 40 | Avg Reward is ==> -576.5867888647058\n",
      "Episode 41 | Avg Reward is ==> -569.1442091709168\n",
      "Episode 42 | Avg Reward is ==> -559.7834501717978\n",
      "Episode 43 | Avg Reward is ==> -546.7578107796347\n",
      "Episode 44 | Avg Reward is ==> -536.8140054086887\n",
      "Episode 45 | Avg Reward is ==> -520.7241337483221\n",
      "Episode 46 | Avg Reward is ==> -504.6504667433529\n",
      "Episode 47 | Avg Reward is ==> -488.8416499041526\n",
      "Episode 48 | Avg Reward is ==> -469.79340901194\n",
      "Episode 49 | Avg Reward is ==> -455.1973000799835\n",
      "Episode 50 | Avg Reward is ==> -445.14180978489185\n",
      "Episode 51 | Avg Reward is ==> -428.974970171391\n",
      "Episode 52 | Avg Reward is ==> -410.5906439654394\n",
      "Episode 53 | Avg Reward is ==> -398.7946409421352\n",
      "Episode 54 | Avg Reward is ==> -383.4989496732969\n",
      "Episode 55 | Avg Reward is ==> -369.23125784125824\n",
      "Episode 56 | Avg Reward is ==> -358.32994525449413\n",
      "Episode 57 | Avg Reward is ==> -345.73560911379263\n",
      "Episode 58 | Avg Reward is ==> -328.5794221639506\n",
      "Episode 59 | Avg Reward is ==> -318.2643113638229\n",
      "Episode 60 | Avg Reward is ==> -307.98833133616444\n",
      "Episode 61 | Avg Reward is ==> -301.3223952454414\n",
      "Episode 62 | Avg Reward is ==> -297.8543658000979\n",
      "Episode 63 | Avg Reward is ==> -288.38857603416176\n",
      "Episode 64 | Avg Reward is ==> -272.5959499991718\n",
      "Episode 65 | Avg Reward is ==> -262.7808932717744\n",
      "Episode 66 | Avg Reward is ==> -250.9327748368059\n",
      "Episode 67 | Avg Reward is ==> -238.82520546223213\n",
      "Episode 68 | Avg Reward is ==> -236.379216658538\n",
      "Episode 69 | Avg Reward is ==> -229.54371218660464\n",
      "Episode 70 | Avg Reward is ==> -220.51835941040684\n",
      "Episode 71 | Avg Reward is ==> -210.66971352872187\n",
      "Episode 72 | Avg Reward is ==> -207.67142056303072\n",
      "Episode 73 | Avg Reward is ==> -193.65370965450873\n",
      "Episode 74 | Avg Reward is ==> -193.56947615865232\n",
      "Episode 75 | Avg Reward is ==> -190.3562195273723\n",
      "Episode 76 | Avg Reward is ==> -192.7387623369671\n",
      "Episode 77 | Avg Reward is ==> -189.37800337901905\n",
      "Episode 78 | Avg Reward is ==> -186.0955040067829\n",
      "Episode 79 | Avg Reward is ==> -179.45197621163211\n",
      "Episode 80 | Avg Reward is ==> -182.63269236121548\n",
      "Episode 81 | Avg Reward is ==> -173.08346672120064\n",
      "Episode 82 | Avg Reward is ==> -168.9177894466458\n",
      "Episode 83 | Avg Reward is ==> -171.7633421005391\n",
      "Episode 84 | Avg Reward is ==> -168.72286709620775\n",
      "Episode 85 | Avg Reward is ==> -162.67576761557788\n",
      "Episode 86 | Avg Reward is ==> -162.18880127683354\n",
      "Episode 87 | Avg Reward is ==> -164.7891739564542\n",
      "Episode 88 | Avg Reward is ==> -167.4018254909075\n",
      "Episode 89 | Avg Reward is ==> -167.1901512474478\n",
      "Episode 90 | Avg Reward is ==> -163.7770116054034\n",
      "Episode 91 | Avg Reward is ==> -163.96549649273223\n",
      "Episode 92 | Avg Reward is ==> -166.91810685484387\n",
      "Episode 93 | Avg Reward is ==> -166.90409815105568\n",
      "Episode 94 | Avg Reward is ==> -164.1073795029471\n",
      "Episode 95 | Avg Reward is ==> -167.25783187540554\n",
      "Episode 96 | Avg Reward is ==> -164.17776658738075\n",
      "Episode 97 | Avg Reward is ==> -158.64260791775257\n",
      "Episode 98 | Avg Reward is ==> -158.75243387969272\n",
      "Episode 99 | Avg Reward is ==> -152.39643306271677\n"
     ]
    },
    {
     "data": {
      "image/png": "[encoded data removed]",
      "text/plain": [
       "<Figure size 640x480 with 1 Axes>"
      ]
     },
     "metadata": {},
     "output_type": "display_data"
    }
   ],
   "source": [
    "import imageio\n",
    "\n",
    "ep_reward_list = []\n",
    "avg_reward_list = []\n",
    "\n",
    "for epoch in range(total_episodes):\n",
    "\n",
    "    prev_state, _ = env.reset()\n",
    "    episodic_reward = 0\n",
    "    counter = 0\n",
    "\n",
    "    while True and counter <= max_iterations:\n",
    "        if render:\n",
    "            frame = env.render()\n",
    "            frame_path = os.path.join(frames_dir, f\"epoch_{epoch}_step_{counter+1}.png\")\n",
    "            imageio.imwrite(frame_path, frame)\n",
    "        \n",
    "        tf_prev_state = tf.expand_dims(tf.convert_to_tensor(prev_state), 0)\n",
    "\n",
    "        action = policy(tf_prev_state, ou_noise)\n",
    "        state, reward, done, info, _ = env.step(action)\n",
    "\n",
    "        buffer.record((prev_state, action, reward, state))\n",
    "        episodic_reward += reward\n",
    "\n",
    "        buffer.learn()\n",
    "        update_target(target_actor.variables, actor_model.variables, tau)\n",
    "        update_target(target_critic.variables, critic_model.variables, tau)\n",
    "\n",
    "        if done:\n",
    "            break\n",
    "\n",
    "        prev_state = state\n",
    "        \n",
    "        counter += 1\n",
    "\n",
    "    ep_reward_list.append(episodic_reward)\n",
    "\n",
    "    avg_reward = np.mean(ep_reward_list[-40:])\n",
    "    print(f\"Episode {epoch} | Avg Reward is ==> {avg_reward}\")\n",
    "    avg_reward_list.append(avg_reward)\n",
    "\n",
    "# Plotting graph\n",
    "# Episodes versus Avg. Rewards\n",
    "plt.plot(avg_reward_list)\n",
    "plt.xlabel(\"Episode\")\n",
    "plt.ylabel(\"Avg. Epsiodic Reward\")\n",
    "plt.show()"
   ]
  },
  {
   "cell_type": "markdown",
   "metadata": {},
   "source": [
    "## Generate Video Of Training\n"
   ]
  },
  {
   "cell_type": "code",
   "execution_count": 10,
   "metadata": {},
   "outputs": [
    {
     "name": "stderr",
     "output_type": "stream",
     "text": [
      "  0%|          | 0/20200 [00:00<?, ?it/s]IMAGEIO FFMPEG_WRITER WARNING: input image is not divisible by macro_block_size=16, resizing from (500, 500) to (512, 512) to ensure video compatibility with most codecs and players. To prevent resizing, make your input image divisible by the macro_block_size or set the macro_block_size to 1 (risking incompatibility).\n",
      "  0%|          | 1/20200 [00:00<51:16,  6.57it/s]/training_video_17042024200541.mp4: Permission denied\n",
      "  0%|          | 1/20200 [00:00<55:22,  6.08it/s]\n"
     ]
    },
    {
     "ename": "OSError",
     "evalue": "[Errno 32] Broken pipe\n\nFFMPEG COMMAND:\n/home/elesdes/miniconda3/envs/5IABD_PA/lib/python3.11/site-packages/imageio_ffmpeg/binaries/ffmpeg-linux64-v4.2.2 -y -f rawvideo -vcodec rawvideo -s 500x500 -pix_fmt rgb24 -r 30.00 -i - -an -vcodec libx264 -pix_fmt yuv420p -vf scale=512:512 -v warning /training_video_17042024200541.mp4\n\nFFMPEG STDERR OUTPUT:\n",
     "output_type": "error",
     "traceback": [
      "\u001b[0;31m---------------------------------------------------------------------------\u001b[0m",
      "\u001b[0;31mBrokenPipeError\u001b[0m                           Traceback (most recent call last)",
      "File \u001b[0;32m~/miniconda3/envs/5IABD_PA/lib/python3.11/site-packages/imageio_ffmpeg/_io.py:627\u001b[0m, in \u001b[0;36mwrite_frames\u001b[0;34m(path, size, pix_fmt_in, pix_fmt_out, fps, quality, bitrate, codec, macro_block_size, ffmpeg_log_level, ffmpeg_timeout, input_params, output_params, audio_path, audio_codec)\u001b[0m\n\u001b[1;32m    626\u001b[0m \u001b[38;5;28;01mtry\u001b[39;00m:\n\u001b[0;32m--> 627\u001b[0m     \u001b[43mp\u001b[49m\u001b[38;5;241;43m.\u001b[39;49m\u001b[43mstdin\u001b[49m\u001b[38;5;241;43m.\u001b[39;49m\u001b[43mwrite\u001b[49m\u001b[43m(\u001b[49m\u001b[43mbb\u001b[49m\u001b[43m)\u001b[49m\n\u001b[1;32m    628\u001b[0m \u001b[38;5;28;01mexcept\u001b[39;00m \u001b[38;5;167;01mException\u001b[39;00m \u001b[38;5;28;01mas\u001b[39;00m err:\n\u001b[1;32m    629\u001b[0m     \u001b[38;5;66;03m# Show the command and stderr from pipe\u001b[39;00m\n",
      "\u001b[0;31mBrokenPipeError\u001b[0m: [Errno 32] Broken pipe",
      "\nDuring handling of the above exception, another exception occurred:\n",
      "\u001b[0;31mOSError\u001b[0m                                   Traceback (most recent call last)",
      "Cell \u001b[0;32mIn[10], line 43\u001b[0m\n\u001b[1;32m     40\u001b[0m         img_array \u001b[38;5;241m=\u001b[39m np\u001b[38;5;241m.\u001b[39marray(img)\n\u001b[1;32m     42\u001b[0m         \u001b[38;5;66;03m# Append image to video\u001b[39;00m\n\u001b[0;32m---> 43\u001b[0m         \u001b[43mvideo\u001b[49m\u001b[38;5;241;43m.\u001b[39;49m\u001b[43mappend_data\u001b[49m\u001b[43m(\u001b[49m\u001b[43mimg_array\u001b[49m\u001b[43m)\u001b[49m\n\u001b[1;32m     45\u001b[0m \u001b[38;5;124;03m\"\"\"# Optionally, clean up by removing the images if no longer needed\u001b[39;00m\n\u001b[1;32m     46\u001b[0m \u001b[38;5;124;03mfor filename in filenames:\u001b[39;00m\n\u001b[1;32m     47\u001b[0m \u001b[38;5;124;03m    os.remove(filename)\u001b[39;00m\n\u001b[1;32m     48\u001b[0m \u001b[38;5;124;03mos.rmdir(frames_dir)\"\"\"\u001b[39;00m\n",
      "File \u001b[0;32m~/miniconda3/envs/5IABD_PA/lib/python3.11/site-packages/imageio/core/format.py:590\u001b[0m, in \u001b[0;36mFormat.Writer.append_data\u001b[0;34m(self, im, meta)\u001b[0m\n\u001b[1;32m    588\u001b[0m im \u001b[38;5;241m=\u001b[39m asarray(im)\n\u001b[1;32m    589\u001b[0m \u001b[38;5;66;03m# Call\u001b[39;00m\n\u001b[0;32m--> 590\u001b[0m \u001b[38;5;28;01mreturn\u001b[39;00m \u001b[38;5;28;43mself\u001b[39;49m\u001b[38;5;241;43m.\u001b[39;49m\u001b[43m_append_data\u001b[49m\u001b[43m(\u001b[49m\u001b[43mim\u001b[49m\u001b[43m,\u001b[49m\u001b[43m \u001b[49m\u001b[43mtotal_meta\u001b[49m\u001b[43m)\u001b[49m\n",
      "File \u001b[0;32m~/miniconda3/envs/5IABD_PA/lib/python3.11/site-packages/imageio/plugins/ffmpeg.py:600\u001b[0m, in \u001b[0;36mFfmpegFormat.Writer._append_data\u001b[0;34m(self, im, meta)\u001b[0m\n\u001b[1;32m    597\u001b[0m \u001b[38;5;28;01massert\u001b[39;00m \u001b[38;5;28mself\u001b[39m\u001b[38;5;241m.\u001b[39m_write_gen \u001b[38;5;129;01mis\u001b[39;00m \u001b[38;5;129;01mnot\u001b[39;00m \u001b[38;5;28;01mNone\u001b[39;00m  \u001b[38;5;66;03m# Check status\u001b[39;00m\n\u001b[1;32m    599\u001b[0m \u001b[38;5;66;03m# Write. Yes, we can send the data in as a numpy array\u001b[39;00m\n\u001b[0;32m--> 600\u001b[0m \u001b[38;5;28;43mself\u001b[39;49m\u001b[38;5;241;43m.\u001b[39;49m\u001b[43m_write_gen\u001b[49m\u001b[38;5;241;43m.\u001b[39;49m\u001b[43msend\u001b[49m\u001b[43m(\u001b[49m\u001b[43mim\u001b[49m\u001b[43m)\u001b[49m\n",
      "File \u001b[0;32m~/miniconda3/envs/5IABD_PA/lib/python3.11/site-packages/imageio_ffmpeg/_io.py:634\u001b[0m, in \u001b[0;36mwrite_frames\u001b[0;34m(path, size, pix_fmt_in, pix_fmt_out, fps, quality, bitrate, codec, macro_block_size, ffmpeg_log_level, ffmpeg_timeout, input_params, output_params, audio_path, audio_codec)\u001b[0m\n\u001b[1;32m    628\u001b[0m         \u001b[38;5;28;01mexcept\u001b[39;00m \u001b[38;5;167;01mException\u001b[39;00m \u001b[38;5;28;01mas\u001b[39;00m err:\n\u001b[1;32m    629\u001b[0m             \u001b[38;5;66;03m# Show the command and stderr from pipe\u001b[39;00m\n\u001b[1;32m    630\u001b[0m             msg \u001b[38;5;241m=\u001b[39m (\n\u001b[1;32m    631\u001b[0m                 \u001b[38;5;124m\"\u001b[39m\u001b[38;5;132;01m{0:}\u001b[39;00m\u001b[38;5;130;01m\\n\u001b[39;00m\u001b[38;5;130;01m\\n\u001b[39;00m\u001b[38;5;124mFFMPEG COMMAND:\u001b[39m\u001b[38;5;130;01m\\n\u001b[39;00m\u001b[38;5;132;01m{1:}\u001b[39;00m\u001b[38;5;130;01m\\n\u001b[39;00m\u001b[38;5;130;01m\\n\u001b[39;00m\u001b[38;5;124mFFMPEG STDERR \u001b[39m\u001b[38;5;124m\"\u001b[39m\n\u001b[1;32m    632\u001b[0m                 \u001b[38;5;124m\"\u001b[39m\u001b[38;5;124mOUTPUT:\u001b[39m\u001b[38;5;130;01m\\n\u001b[39;00m\u001b[38;5;124m\"\u001b[39m\u001b[38;5;241m.\u001b[39mformat(err, cmd_str)\n\u001b[1;32m    633\u001b[0m             )\n\u001b[0;32m--> 634\u001b[0m             \u001b[38;5;28;01mraise\u001b[39;00m \u001b[38;5;167;01mIOError\u001b[39;00m(msg)\n\u001b[1;32m    636\u001b[0m         nframes \u001b[38;5;241m+\u001b[39m\u001b[38;5;241m=\u001b[39m \u001b[38;5;241m1\u001b[39m\n\u001b[1;32m    638\u001b[0m \u001b[38;5;28;01mexcept\u001b[39;00m \u001b[38;5;167;01mGeneratorExit\u001b[39;00m:\n\u001b[1;32m    639\u001b[0m     \u001b[38;5;66;03m# Note that GeneratorExit does not inherit from Exception but BaseException\u001b[39;00m\n\u001b[1;32m    640\u001b[0m     \u001b[38;5;66;03m# Detect premature closing\u001b[39;00m\n",
      "\u001b[0;31mOSError\u001b[0m: [Errno 32] Broken pipe\n\nFFMPEG COMMAND:\n/home/elesdes/miniconda3/envs/5IABD_PA/lib/python3.11/site-packages/imageio_ffmpeg/binaries/ffmpeg-linux64-v4.2.2 -y -f rawvideo -vcodec rawvideo -s 500x500 -pix_fmt rgb24 -r 30.00 -i - -an -vcodec libx264 -pix_fmt yuv420p -vf scale=512:512 -v warning /training_video_17042024200541.mp4\n\nFFMPEG STDERR OUTPUT:\n"
     ]
    }
   ],
   "source": [
    "import os\n",
    "import numpy as np\n",
    "import imageio\n",
    "from tqdm import tqdm\n",
    "from PIL import Image, ImageDraw, ImageFont\n",
    "from datetime import datetime\n",
    "\n",
    "# Assuming frames_dir is already defined\n",
    "filenames = sorted(\n",
    "    [os.path.join(frames_dir, f) for f in os.listdir(frames_dir) if f.endswith(\".png\")]\n",
    ")\n",
    "\n",
    "# Specify the font and size for the text\n",
    "font = ImageFont.load_default()  # Use a default font. Adjust if needed.\n",
    "\n",
    "video_dir = f\"../../data/videos/ddpg\"\n",
    "os.makedirs(video_dir, exist_ok=True)\n",
    "\n",
    "with imageio.get_writer(os.path.join(video_dir, f\"/training_video_{datetime.now().strftime('%d%m%Y%H%M%S')}.mp4\"), fps=30) as video:\n",
    "    for filename in tqdm(filenames):\n",
    "        # Extract epoch and frame from the filename\n",
    "        parts = filename.split('_')\n",
    "        epoch_num = parts[1]\n",
    "        frame_num = parts[3].split('.')[0]\n",
    "        \n",
    "        # Load the image\n",
    "        img = Image.open(filename)\n",
    "        draw = ImageDraw.Draw(img)\n",
    "        \n",
    "        # Prepare text\n",
    "        text = f\"Epoch: {epoch_num}, Step: {frame_num}\"\n",
    "        \n",
    "        # Position: (x, y) from the bottom left corner\n",
    "        text_position = (10, img.height - 20)\n",
    "        \n",
    "        # Draw text\n",
    "        draw.text(text_position, text, font=font, fill=(0, 0, 0))\n",
    "        \n",
    "        # Convert the Pillow Image to a NumPy array\n",
    "        img_array = np.array(img)\n",
    "        \n",
    "        # Append image to video\n",
    "        video.append_data(img_array)\n",
    "\n",
    "\"\"\"# Optionally, clean up by removing the images if no longer needed\n",
    "for filename in filenames:\n",
    "    os.remove(filename)\n",
    "os.rmdir(frames_dir)\"\"\""
   ]
  }
 ],
 "metadata": {
  "kernelspec": {
   "display_name": "ICARUS",
   "language": "python",
   "name": "python3"
  },
  "language_info": {
   "codemirror_mode": {
    "name": "ipython",
    "version": 3
   },
   "file_extension": ".py",
   "mimetype": "text/x-python",
   "name": "python",
   "nbconvert_exporter": "python",
   "pygments_lexer": "ipython3",
   "version": "3.11.8"
  }
 },
 "nbformat": 4,
 "nbformat_minor": 2
}
